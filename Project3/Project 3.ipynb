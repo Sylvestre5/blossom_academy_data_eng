{
 "cells": [
  {
   "cell_type": "markdown",
   "metadata": {},
   "source": [
    "# <font color='blue'>Project 3 - Data Manipulation  with Apache Spark and Postgres</font>"
   ]
  },
  {
   "cell_type": "markdown",
   "metadata": {},
   "source": [
    "## <font color='purple'>Import all Dependencies</font>"
   ]
  },
  {
   "cell_type": "code",
   "execution_count": 1,
   "metadata": {},
   "outputs": [],
   "source": [
    "import pyspark\n",
    "from pyspark.sql.functions import split,col, explode, regexp_replace\n",
    "from pyspark.sql import functions as F\n",
    "from pyspark.sql import SparkSession\n",
    "from pyspark.sql import Window\n",
    "from pyspark.sql import SQLContext\n"
   ]
  },
  {
   "cell_type": "markdown",
   "metadata": {},
   "source": [
    "## <font color='red'>Initiate Spark Session</font>"
   ]
  },
  {
   "cell_type": "code",
   "execution_count": 2,
   "metadata": {},
   "outputs": [],
   "source": [
    "spark = (\n",
    "    SparkSession.builder\n",
    "                .appName(\"Stack Overflow Data Wrangling\")\n",
    "                .config(\"spark.jars\", \"postgresql-42.2.8.jar\") \n",
    "                .getOrCreate()\n",
    ")\n"
   ]
  },
  {
   "cell_type": "markdown",
   "metadata": {},
   "source": [
    "## <font color='green'>Read Questions Dataset</font>"
   ]
  },
  {
   "cell_type": "code",
   "execution_count": 4,
   "metadata": {},
   "outputs": [],
   "source": [
    "questions = spark.read.csv(\n",
    "    \"/home/priscilla/Desktop/blossom_academy/stackoverflow/questions.csv\", header=True, inferSchema=True, multiLine=True, escape='\"')"
   ]
  },
  {
   "cell_type": "markdown",
   "metadata": {},
   "source": [
    "## <font color='brown'>Read Users Dataset</font>"
   ]
  },
  {
   "cell_type": "code",
   "execution_count": 6,
   "metadata": {},
   "outputs": [],
   "source": [
    "users = spark.read.csv(\n",
    "    \"/home/priscilla/Desktop/blossom_academy/stackoverflow/users.csv\", header=True, inferSchema=True, multiLine=True, escape='\"')"
   ]
  },
  {
   "cell_type": "markdown",
   "metadata": {},
   "source": [
    "## <font color='teal'>Rename Columns in Dataset</font>"
   ]
  },
  {
   "cell_type": "code",
   "execution_count": 7,
   "metadata": {},
   "outputs": [],
   "source": [
    "questions = questions.withColumnRenamed('id', 'question_id') \n",
    "users = users.withColumnRenamed('id', 'user_id') \n",
    "questions = questions.withColumnRenamed('created_at', 'question_created_at') \n"
   ]
  },
  {
   "cell_type": "markdown",
   "metadata": {},
   "source": [
    "## <font color='amber'>Split \"Location\" Column into Country, City, State</font>"
   ]
  },
  {
   "cell_type": "code",
   "execution_count": 8,
   "metadata": {},
   "outputs": [],
   "source": [
    "users = users.withColumn('country', split(users['location'], ',')[2])\n",
    "users = users.withColumn('state', split(users['location'],',')[1])\n",
    "users = users.withColumn('city', split(users['location'], ',')[0])"
   ]
  },
  {
   "cell_type": "markdown",
   "metadata": {},
   "source": [
    "## <font color='teal'>Filter Country by selecting India</font>"
   ]
  },
  {
   "cell_type": "code",
   "execution_count": 13,
   "metadata": {
    "collapsed": true
   },
   "outputs": [
    {
     "name": "stdout",
     "output_type": "stream",
     "text": [
      "+--------+-----------------+----------+--------------------+--------------------+--------------------+-----+--------+----------+--------------------+-------------------+-------------------+-------+-----------+--------------------+\n",
      "| user_id|     display_name|reputation|         website_url|            location|            about_me|views|up_votes|down_votes|           image_url|         created_at|         updated_at|country|      state|                city|\n",
      "+--------+-----------------+----------+--------------------+--------------------+--------------------+-----+--------+----------+--------------------+-------------------+-------------------+-------+-----------+--------------------+\n",
      "| 2685825| Akshay Champavat|        33|                null|Ahmedabad ,Gujara...|<p>-Total 5 years...|   35|       8|         0|https://i.stack.i...|2013-08-15 12:25:17|2019-09-24 12:17:00|  India|    Gujarat|          Ahmedabad |\n",
      "| 4845514|         Dhinakar|        68|                null|chennai,Tamil nad...|<p>About  Myself:...|   18|      14|         0|https://lh6.googl...|2015-04-29 08:51:53|2019-09-09 07:31:47|  India| Tamil nadu|             chennai|\n",
      "|  940898|  Prabhu Krishnan|        71|http://kprabhucsp...|Salem,Tamil Nadu,...|                null|   23|       4|         0|                null|2011-09-12 15:34:27|2019-03-27 09:55:22|  India| Tamil Nadu|               Salem|\n",
      "| 6801082|  Sudip Sadhukhan|       181|                null|Rishra,West Benga...|<p>Love to learn ...|   17|       7|         0|https://lh4.googl...|2016-09-06 15:45:25|2019-09-27 07:19:30|  India|West Bengal|              Rishra|\n",
      "|10182953|Ratnabh kumar rai|       163|                null|Lovely Profession...|                null|   39|      55|         0|https://lh4.googl...|2018-08-05 13:49:13|2019-09-23 15:04:40|  India|     Punjab|Lovely Profession...|\n",
      "| 3779104|     Vishal Patel|       931|                null|Ahmedabad,Gujarat...|<p>technology sav...|  100|     179|        12|https://i.stack.i...|2014-06-26 11:30:21|2019-10-12 13:43:09|  India|    Gujarat|           Ahmedabad|\n",
      "| 4327283|           Sachin|       960|                null| Cochin,Kerala,India|                null|  173|     325|         2|https://i.stack.i...|2014-12-05 04:56:01|2019-08-29 11:01:55|  India|     Kerala|              Cochin|\n",
      "| 4601434|         Nagendra|       464|                null|Bangalore,Karnata...|                null|  101|     179|         0|https://i.stack.i...|2015-02-24 13:46:40|2019-10-11 14:08:49|  India|  Karnataka|           Bangalore|\n",
      "| 5798049|          Mr. Mad|       777|http://webtecnowo...|Jaipur,Rajasthan,...|<p>Hello ,I am Ra...|  148|     242|         9|https://i.stack.i...|2016-01-16 09:35:09|2019-10-11 11:49:10|  India|  Rajasthan|              Jaipur|\n",
      "| 7254873|     Sumit Shukla|      1389|                null|Ahmedabad,Gujarat...|<ul>\n",
      "<li><p>Good,...|  213|    1157|        46|https://i.stack.i...|2016-12-06 02:23:23|2019-10-12 16:45:05|  India|    Gujarat|           Ahmedabad|\n",
      "+--------+-----------------+----------+--------------------+--------------------+--------------------+-----+--------+----------+--------------------+-------------------+-------------------+-------+-----------+--------------------+\n",
      "\n"
     ]
    }
   ],
   "source": [
    "users_india = users.filter(users['country'] == 'India')\n",
    "users_india.show()"
   ]
  },
  {
   "cell_type": "markdown",
   "metadata": {},
   "source": [
    "## <font color='red'>Filter views greater than 20</font>"
   ]
  },
  {
   "cell_type": "code",
   "execution_count": 14,
   "metadata": {
    "collapsed": true
   },
   "outputs": [
    {
     "name": "stdout",
     "output_type": "stream",
     "text": [
      "+-----------+--------+--------------------+--------------------+------------------+-----+----------+-------------+-------------------+\n",
      "|question_id| user_id|               title|                body|accepted_answer_id|score|view_count|comment_count|question_created_at|\n",
      "+-----------+--------+--------------------+--------------------+------------------+-----+----------+-------------+-------------------+\n",
      "|   54233315| 1118630|XPath parent node...|<p>I'm trying to ...|          54233368|    1|       134|            4|2019-01-17 09:59:47|\n",
      "|   54233145| 7984274| Is this a java BUG?|<p>why the follow...|          54234312|   -2|       132|            3|2019-01-17 09:50:12|\n",
      "|   54233331| 1877002|Different results...|<p>I am new to li...|          54233375|   -1|        26|            0|2019-01-17 10:00:17|\n",
      "|   54233149|10927076|Using eval as pro...|<p>I know there a...|          54233257|    1|        49|            2|2019-01-17 09:50:30|\n",
      "|   54233337| 8171766|Can't run ng serv...|<p>So I am trying...|              null|    1|       464|            1|2019-01-17 10:00:32|\n",
      "|   54233360| 1392277|Table max height ...|<p><a href=\"https...|              null|   -1|        57|            0|2019-01-17 10:02:13|\n",
      "|   54233254|10927026|question about ho...|<p>I am a newbie ...|              null|   -2|        39|            2|2019-01-17 09:56:38|\n",
      "|   54233264| 1852190|Can I create a li...|<p>Can I create a...|              null|    0|       198|            0|2019-01-17 09:56:55|\n",
      "|   54243261| 8462962|Pivot, dynamic da...|<p>I have a pivot...|              null|    0|        37|            0|2019-01-17 19:48:01|\n",
      "|   54313205|    null|I am trying to ad...|<p>I am trying to...|              null|    0|        24|            2|2019-01-22 17:08:05|\n",
      "|   54233168| 9456952|When changing val...|<p>I am changing ...|              null|    0|        61|            7|2019-01-17 09:51:49|\n",
      "|   54233170|10467387|How to build plug...|<p>I know that Un...|          55383582|    0|       146|            0|2019-01-17 09:51:53|\n",
      "|   54233177| 2336707|bash regex matche...|<p>Basically I wa...|          54243532|    0|       122|           17|2019-01-17 09:52:14|\n",
      "|   54233196|10927137|Hide keyboard in ...|<p>I have created...|              null|    0|        83|            0|2019-01-17 09:53:47|\n",
      "|   54233211| 7389335|Displaying dateti...|<p>In my mvc appl...|              null|    0|        40|            8|2019-01-17 09:54:26|\n",
      "|   54233218| 8253639|How can we send a...|<p>I've been tryi...|          54704332|    1|        65|           16|2019-01-17 09:54:41|\n",
      "|   54233270| 5616790|How to hit a func...|<p>When scroll po...|              null|   -3|        40|            1|2019-01-17 09:57:11|\n",
      "|   54027043| 4662180|How to fix \"initi...|<p>I'm attempting...|          54028223|    1|        80|            9|2019-01-03 17:28:06|\n",
      "|   54233393| 7222370|Using complex dat...|<p>I'm making an ...|          54233835|    0|        44|            0|2019-01-17 10:04:00|\n",
      "|   54233398| 4689583|Bootstrap table r...|<p>I'm new in Boo...|          54234058|    0|        70|            3|2019-01-17 10:04:18|\n",
      "+-----------+--------+--------------------+--------------------+------------------+-----+----------+-------------+-------------------+\n",
      "only showing top 20 rows\n",
      "\n"
     ]
    }
   ],
   "source": [
    "greater_questions = questions.filter(questions.view_count >= 20)\n",
    "greater_questions.show()"
   ]
  },
  {
   "cell_type": "markdown",
   "metadata": {},
   "source": [
    "## <font color='peach'>Join \"greater_questions\" && \"users_india\"</font>"
   ]
  },
  {
   "cell_type": "code",
   "execution_count": 15,
   "metadata": {
    "collapsed": true
   },
   "outputs": [
    {
     "name": "stdout",
     "output_type": "stream",
     "text": [
      "+--------+-----------------+----------+--------------------+--------------------+--------------------+-----+--------+----------+--------------------+-------------------+-------------------+-------+----------+--------------------+-----------+--------------------+--------------------+------------------+-----+----------+-------------+-------------------+\n",
      "| user_id|     display_name|reputation|         website_url|            location|            about_me|views|up_votes|down_votes|           image_url|         created_at|         updated_at|country|     state|                city|question_id|               title|                body|accepted_answer_id|score|view_count|comment_count|question_created_at|\n",
      "+--------+-----------------+----------+--------------------+--------------------+--------------------+-----+--------+----------+--------------------+-------------------+-------------------+-------+----------+--------------------+-----------+--------------------+--------------------+------------------+-----+----------+-------------+-------------------+\n",
      "| 2685825| Akshay Champavat|        33|                null|Ahmedabad ,Gujara...|<p>-Total 5 years...|   35|       8|         0|https://i.stack.i...|2013-08-15 12:25:17|2019-09-24 12:17:00|  India|   Gujarat|          Ahmedabad |   56286848|Need Some help on...|<p>I am new to an...|          56286946|    1|        59|            1|2019-05-24 06:18:01|\n",
      "| 2685825| Akshay Champavat|        33|                null|Ahmedabad ,Gujara...|<p>-Total 5 years...|   35|       8|         0|https://i.stack.i...|2013-08-15 12:25:17|2019-09-24 12:17:00|  India|   Gujarat|          Ahmedabad |   56578081|Need expert opini...|<p>As per my unde...|              null|    0|        41|            2|2019-06-13 10:04:33|\n",
      "|  940898|  Prabhu Krishnan|        71|http://kprabhucsp...|Salem,Tamil Nadu,...|                null|   23|       4|         0|                null|2011-09-12 15:34:27|2019-03-27 09:55:22|  India|Tamil Nadu|               Salem|   54453682|How to automate c...|<p>I need to do a...|              null|    1|       138|            0|2019-01-31 05:10:06|\n",
      "| 4327283|           Sachin|       960|                null| Cochin,Kerala,India|                null|  173|     325|         2|https://i.stack.i...|2014-12-05 04:56:01|2019-08-29 11:01:55|  India|    Kerala|              Cochin|   55172138|How to represent ...|<p>I was working ...|          55296054|    0|       102|            0|2019-03-14 21:16:11|\n",
      "| 4327283|           Sachin|       960|                null| Cochin,Kerala,India|                null|  173|     325|         2|https://i.stack.i...|2014-12-05 04:56:01|2019-08-29 11:01:55|  India|    Kerala|              Cochin|   55296496|SQL Query to sele...|<p>I was working ...|          55297544|    0|        75|            7|2019-03-22 09:26:21|\n",
      "|10182953|Ratnabh kumar rai|       163|                null|Lovely Profession...|                null|   39|      55|         0|https://lh4.googl...|2018-08-05 13:49:13|2019-09-23 15:04:40|  India|    Punjab|Lovely Profession...|   54850094|Cannot find a dif...|<p>i am trying to...|              null|    1|       270|            1|2019-02-24 08:27:31|\n",
      "|10182953|Ratnabh kumar rai|       163|                null|Lovely Profession...|                null|   39|      55|         0|https://lh4.googl...|2018-08-05 13:49:13|2019-09-23 15:04:40|  India|    Punjab|Lovely Profession...|   54886965|Cannot read prope...|<p>Hey guys I am ...|              null|    2|       109|            0|2019-02-26 13:47:18|\n",
      "|10182953|Ratnabh kumar rai|       163|                null|Lovely Profession...|                null|   39|      55|         0|https://lh4.googl...|2018-08-05 13:49:13|2019-09-23 15:04:40|  India|    Punjab|Lovely Profession...|   56299166|Passing data from...|<p>i am a child a...|              null|    1|       148|            0|2019-05-24 20:27:09|\n",
      "|10182953|Ratnabh kumar rai|       163|                null|Lovely Profession...|                null|   39|      55|         0|https://lh4.googl...|2018-08-05 13:49:13|2019-09-23 15:04:40|  India|    Punjab|Lovely Profession...|   56567413|Retreiving data f...|<p>i am trying to...|              null|    0|        68|            4|2019-06-12 17:19:13|\n",
      "| 7254873|     Sumit Shukla|      1389|                null|Ahmedabad,Gujarat...|<ul>\n",
      "<li><p>Good,...|  213|    1157|        46|https://i.stack.i...|2016-12-06 02:23:23|2019-10-12 16:45:05|  India|   Gujarat|           Ahmedabad|   55546875|Cannot send notif...|<p>I am following...|          55555730|    1|       163|            1|2019-04-06 07:34:45|\n",
      "+--------+-----------------+----------+--------------------+--------------------+--------------------+-----+--------+----------+--------------------+-------------------+-------------------+-------+----------+--------------------+-----------+--------------------+--------------------+------------------+-----+----------+-------------+-------------------+\n",
      "\n"
     ]
    }
   ],
   "source": [
    "a = users_india.join(greater_questions,'user_id')\n",
    "a.show()"
   ]
  },
  {
   "cell_type": "markdown",
   "metadata": {},
   "source": [
    "## <font color='turquoise'>Create a cre</font>"
   ]
  },
  {
   "cell_type": "code",
   "execution_count": 17,
   "metadata": {
    "collapsed": true
   },
   "outputs": [
    {
     "name": "stdout",
     "output_type": "stream",
     "text": [
      "+-------------------+\n",
      "|    min(updated_at)|\n",
      "+-------------------+\n",
      "|2019-03-27 09:55:22|\n",
      "+-------------------+\n",
      "\n"
     ]
    }
   ],
   "source": [
    "a.registerTempTable('joined_df')\n",
    "spark.sql(\"SELECT min(updated_at) from joined_df\").show()\n"
   ]
  },
  {
   "cell_type": "code",
   "execution_count": 19,
   "metadata": {},
   "outputs": [],
   "source": [
    "a.write.format(\"jdbc\").options(\n",
    "    url='jdbc:postgresql://localhost/postgres',\n",
    "    driver='org.postgresql.Driver',\n",
    "    user='postgres',\n",
    "    password='postgres',\n",
    "    dbtable='stackoverflow_filtered.results'\n",
    ").save(mode='append')\n"
   ]
  }
 ],
 "metadata": {
  "kernelspec": {
   "display_name": "Python 3",
   "language": "python",
   "name": "python3"
  },
  "language_info": {
   "codemirror_mode": {
    "name": "ipython",
    "version": 3
   },
   "file_extension": ".py",
   "mimetype": "text/x-python",
   "name": "python",
   "nbconvert_exporter": "python",
   "pygments_lexer": "ipython3",
   "version": "3.7.3"
  }
 },
 "nbformat": 4,
 "nbformat_minor": 2
}
